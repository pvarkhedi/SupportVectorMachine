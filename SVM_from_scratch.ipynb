{
 "cells": [
  {
   "cell_type": "markdown",
   "metadata": {},
   "source": [
    "# Exploration of Support Vector Machines \n",
    "## Support Vector Machine on 1D Categorical Data from Scratch\n",
    "\n",
    "In this exploration I will create my own support vector machine using dummy data. The data consists of different dosages of a drug and whether or not they are effective in curing the illness.\n",
    "\n",
    "In this process I will create a rudimentary SVM using a soft margin. It beings with transforming the data from 1D to 2D and shifting it to the center of the axes. Then I will test out all possible horizontal linear classifiers to find the one with the best accuracy.\n",
    "\n",
    "SVM's fix the problem of high bias in traditional support vector classifiers/ maximal margin classifiers. However, since this dummy data set is very small and there is not train/test split the is a high chance the model I create will have high bias. "
   ]
  },
  {
   "cell_type": "code",
   "execution_count": 394,
   "metadata": {},
   "outputs": [],
   "source": [
    "#Imports\n",
    "import pandas as pd\n",
    "import matplotlib.pyplot as plt\n",
    "import matplotlib.patches as mpatches"
   ]
  },
  {
   "cell_type": "code",
   "execution_count": 395,
   "metadata": {},
   "outputs": [],
   "source": [
    "#Build Dummy Data Set\n",
    "df = pd.DataFrame(\n",
    "    {\"Dosage\" : [1.1, 1.5, 1.7, 2.1, 2.5, 2.7, 3.1, 3.5, 3.8, \\\n",
    "                 4.2, 4.6, 4.9, 5.0, 5.6, 5.9, 6.1, 6.7, 6.9, \\\n",
    "                 7.0, 7.4, 7.8, 8.1, 8.5, 8.8, 9.3, 9.7, 9.7, \\\n",
    "                 10.1, 10.5, 10.8], \n",
    "     \"Effective\" : [0, 0, 0, 0, 0, 0, 1, 0, 0, 1, 1, 0, 1, 1, 1, \\\n",
    "                   1, 1, 1, 1, 1, 0, 0, 0, 1, 0, 0, 0, 0, 0, 0, ]})"
   ]
  },
  {
   "cell_type": "markdown",
   "metadata": {},
   "source": [
    "### Data Exploration"
   ]
  },
  {
   "cell_type": "code",
   "execution_count": 396,
   "metadata": {},
   "outputs": [
    {
     "data": {
      "image/png": "[encoded data removed]",
      "text/plain": [
       "<Figure size 576x144 with 1 Axes>"
      ]
     },
     "metadata": {
      "needs_background": "light"
     },
     "output_type": "display_data"
    }
   ],
   "source": [
    "#GRAPH THE DATA ON NUMBER LINE \n",
    "\n",
    "# set up the figure\n",
    "fig = plt.figure(figsize=(8,2))\n",
    "ax = fig.add_subplot(111)\n",
    "ax.set_xlim(0,12)\n",
    "\n",
    "# draw lines\n",
    "xmin = 0\n",
    "xmax = 12\n",
    "y = 0\n",
    "plt.hlines(y, xmin, xmax)\n",
    "\n",
    "# draw a point on the line\n",
    "for row in df.itertuples():\n",
    "    px = row[1]\n",
    "    if row[2] == 0:\n",
    "        plt.plot(px, y , 'ro', ms = 20, mfc = 'y')\n",
    "    else:\n",
    "        plt.plot(px, y , 'ro', ms = 20, mfc = 'g')\n",
    "\n",
    "# add numbers\n",
    "plt.text(xmin - 0.1, y, '0', horizontalalignment='right')\n",
    "plt.text(xmax + 0.1, y, '12', horizontalalignment='left')\n",
    "\n",
    "fig.suptitle('Distribution of Drug Effectivness at Dosages')\n",
    "green_patch = mpatches.Patch(color='green', label='Effective')\n",
    "yellow_patch = mpatches.Patch(color='yellow', label='Not Effective')\n",
    "plt.legend(handles=[green_patch, yellow_patch])\n",
    "plt.axis('off')\n",
    "\n",
    "plt.show()"
   ]
  },
  {
   "cell_type": "code",
   "execution_count": 397,
   "metadata": {},
   "outputs": [
    {
     "data": {
      "image/png": "[encoded data removed]",
      "text/plain": [
       "<Figure size 576x360 with 2 Axes>"
      ]
     },
     "metadata": {
      "needs_background": "light"
     },
     "output_type": "display_data"
    }
   ],
   "source": [
    "ax1 = df.plot.scatter(x='Dosage', y='Effective', c='Effective', colormap='RdYlGn', \n",
    "                      s = 200, figsize=(8,5), title = \"Distribution of Drug Effectivness at Dosages\")"
   ]
  },
  {
   "cell_type": "markdown",
   "metadata": {},
   "source": [
    "From the graphs above we can see that low dosages and high dosages of this fake drug are not effective in treating the illness. There is a sweet spot right in the middle that is the effective dosages.\n",
    "Because of this distribution it is hard to find a linear logistic classifier."
   ]
  },
  {
   "cell_type": "markdown",
   "metadata": {},
   "source": [
    "### Transformation 1D --> 2D\n",
    "The next step is to transform this data to a higher dimension to be able to run a logistic regression classifier on multivariate data."
   ]
  },
  {
   "cell_type": "code",
   "execution_count": 398,
   "metadata": {},
   "outputs": [
    {
     "data": {
      "text/html": [
       "<div>\n",
       "<style scoped>\n",
       "    .dataframe tbody tr th:only-of-type {\n",
       "        vertical-align: middle;\n",
       "    }\n",
       "\n",
       "    .dataframe tbody tr th {\n",
       "        vertical-align: top;\n",
       "    }\n",
       "\n",
       "    .dataframe thead th {\n",
       "        text-align: right;\n",
       "    }\n",
       "</style>\n",
       "<table border=\"1\" class=\"dataframe\">\n",
       "  <thead>\n",
       "    <tr style=\"text-align: right;\">\n",
       "      <th></th>\n",
       "      <th>Dosage</th>\n",
       "      <th>Effective</th>\n",
       "      <th>transform</th>\n",
       "    </tr>\n",
       "  </thead>\n",
       "  <tbody>\n",
       "    <tr>\n",
       "      <th>0</th>\n",
       "      <td>1.1</td>\n",
       "      <td>0</td>\n",
       "      <td>24.01</td>\n",
       "    </tr>\n",
       "    <tr>\n",
       "      <th>1</th>\n",
       "      <td>1.5</td>\n",
       "      <td>0</td>\n",
       "      <td>20.25</td>\n",
       "    </tr>\n",
       "    <tr>\n",
       "      <th>2</th>\n",
       "      <td>1.7</td>\n",
       "      <td>0</td>\n",
       "      <td>18.49</td>\n",
       "    </tr>\n",
       "    <tr>\n",
       "      <th>3</th>\n",
       "      <td>2.1</td>\n",
       "      <td>0</td>\n",
       "      <td>15.21</td>\n",
       "    </tr>\n",
       "    <tr>\n",
       "      <th>4</th>\n",
       "      <td>2.5</td>\n",
       "      <td>0</td>\n",
       "      <td>12.25</td>\n",
       "    </tr>\n",
       "  </tbody>\n",
       "</table>\n",
       "</div>"
      ],
      "text/plain": [
       "   Dosage  Effective  transform\n",
       "0     1.1          0      24.01\n",
       "1     1.5          0      20.25\n",
       "2     1.7          0      18.49\n",
       "3     2.1          0      15.21\n",
       "4     2.5          0      12.25"
      ]
     },
     "execution_count": 398,
     "metadata": {},
     "output_type": "execute_result"
    }
   ],
   "source": [
    "#simple tranformation fo the data (1D --> 2D): (dosage - 6) ** 2 \n",
    "df[\"transform\"] = [(d - 6)**2 for d in df[\"Dosage\"]]\n",
    "df.head()"
   ]
  },
  {
   "cell_type": "code",
   "execution_count": 399,
   "metadata": {
    "scrolled": true
   },
   "outputs": [
    {
     "data": {
      "image/png": "[encoded data removed]",
      "text/plain": [
       "<Figure size 576x360 with 2 Axes>"
      ]
     },
     "metadata": {
      "needs_background": "light"
     },
     "output_type": "display_data"
    }
   ],
   "source": [
    "#plot transformed data (1D --> 2D)\n",
    "ax2 = df.plot.scatter(x='Dosage', y='transform', c='Effective', colormap='RdYlGn', \n",
    "                      s = 200, figsize=(8,5), title = \"(X - 6) ^ 2 Transformation onf Dosage\")\n",
    "\n",
    "green_patch = mpatches.Patch(color='green', label='Effective')\n",
    "yellow_patch = mpatches.Patch(color='red', label='Not Effective')\n",
    "legend = ax2.legend(handles=[green_patch, yellow_patch])"
   ]
  },
  {
   "cell_type": "markdown",
   "metadata": {},
   "source": [
    "The graph above is just one 1D --> 2D transformation of the data. This transformation can help when creating the support vector classifier because it creates another dimention to split the data on which in this case is helpful because the effective dosage is sandwich-ed inbetween the ineffective dosage amounts so drawing just one boundry line is not possible."
   ]
  },
  {
   "cell_type": "markdown",
   "metadata": {},
   "source": [
    "### Sample Linear Classifier\n",
    "The next step to to draw one possible boundry line for the classifier. The lines in this exploration will be horizontal lines. This line will take two random points, one from each group, and find the midpoint y value to maximize the margins between each point and the boundry. Next is to calculate the precision and recall of all the points in the training set for that boundry line."
   ]
  },
  {
   "cell_type": "code",
   "execution_count": 400,
   "metadata": {},
   "outputs": [],
   "source": [
    "#find sample boundry line\n",
    "point1 = (4.9, 1.2) #first point in dataset\n",
    "point2 = (5.0, 1.0) #last point in dataset\n",
    "y = (point1[1] + point2[1]) / 2"
   ]
  },
  {
   "cell_type": "code",
   "execution_count": 401,
   "metadata": {},
   "outputs": [
    {
     "data": {
      "image/png": "[encoded data removed]",
      "text/plain": [
       "<Figure size 576x360 with 2 Axes>"
      ]
     },
     "metadata": {
      "needs_background": "light"
     },
     "output_type": "display_data"
    }
   ],
   "source": [
    "#plot graph with boundry line\n",
    "ax2 = df.plot.scatter(x='Dosage', y='transform', c='Effective', colormap='RdYlGn', \n",
    "                      s = 200, figsize=(8,5), title = \"(X - 6) ^ 2 Transformation onf Dosage\")\n",
    "\n",
    "green_patch = mpatches.Patch(color='green', label='Effective')\n",
    "yellow_patch = mpatches.Patch(color='red', label='Not Effective')\n",
    "legend = ax2.legend(handles=[green_patch, yellow_patch])\n",
    "line = plt.hlines(y, 0, 12, linestyles = \"dashed\", colors = \"black\")"
   ]
  },
  {
   "cell_type": "code",
   "execution_count": 402,
   "metadata": {},
   "outputs": [],
   "source": [
    "#FUNCTIONS TO CALLCULATE METRICS\n",
    "\n",
    "#calculate precision\n",
    "def precision(predictions, actual):\n",
    "    tp = 0\n",
    "    fp = 0\n",
    "    for i in range(len(predictions)):\n",
    "        if predictions[i] == 1:\n",
    "            if actual[i] == 1:\n",
    "                tp = tp + 1\n",
    "            else:\n",
    "                fp = fp + 1\n",
    "\n",
    "    return tp / (tp + fp)\n",
    "\n",
    "\n",
    "#calculate recall\n",
    "def recall(predictions, actual):\n",
    "    tp = 0\n",
    "    fn = 0\n",
    "    for i in range(len(predictions)):\n",
    "        if predictions[i] == 1:\n",
    "            if actual[i] == 1:\n",
    "                tp = tp + 1\n",
    "        elif predictions[i] == 0:\n",
    "            if actual[i] == 1:\n",
    "                fn = fn + 1\n",
    "\n",
    "    return tp / (tp + fn)\n",
    "\n",
    "\n",
    "#calculate accuracy\n",
    "def accuracy(predictions, actual):\n",
    "    correct = 0\n",
    "    incorrect = 0\n",
    "    for i in range(len(predictions)):\n",
    "        if predictions[i] == actual[i]:\n",
    "            correct = correct + 1\n",
    "        else:\n",
    "            incorrect = incorrect + 1\n",
    "\n",
    "    return correct / (incorrect + correct)"
   ]
  },
  {
   "cell_type": "code",
   "execution_count": 403,
   "metadata": {},
   "outputs": [
    {
     "name": "stdout",
     "output_type": "stream",
     "text": [
      "Precision is:  1.0\n",
      "Recall is:  0.5833333333333334\n",
      "Accuracy is:  0.8333333333333334\n"
     ]
    }
   ],
   "source": [
    "predictions = [1 if dosage <= y else 0 for dosage in df[\"transform\"]]\n",
    "actual = df[\"Effective\"].to_list()\n",
    "\n",
    "print(\"Precision is: \", precision(predictions, actual))\n",
    "print(\"Recall is: \", recall(predictions, actual))\n",
    "print(\"Accuracy is: \", accuracy(predictions, actual))"
   ]
  },
  {
   "cell_type": "markdown",
   "metadata": {},
   "source": [
    "### Full Support Vector Machine\n",
    "Now that we I have done a full example of just one type of transformation and one support vector classifier (soft margin classifier) I will not run it on multiple different transformations and all possible horizontal SVC's to find the one with the highest accuracy for this dataset. "
   ]
  },
  {
   "cell_type": "code",
   "execution_count": 404,
   "metadata": {},
   "outputs": [
    {
     "data": {
      "text/html": [
       "<div>\n",
       "<style scoped>\n",
       "    .dataframe tbody tr th:only-of-type {\n",
       "        vertical-align: middle;\n",
       "    }\n",
       "\n",
       "    .dataframe tbody tr th {\n",
       "        vertical-align: top;\n",
       "    }\n",
       "\n",
       "    .dataframe thead th {\n",
       "        text-align: right;\n",
       "    }\n",
       "</style>\n",
       "<table border=\"1\" class=\"dataframe\">\n",
       "  <thead>\n",
       "    <tr style=\"text-align: right;\">\n",
       "      <th></th>\n",
       "      <th>Dosage</th>\n",
       "      <th>Effective</th>\n",
       "      <th>transform</th>\n",
       "      <th>(x - 0)**2</th>\n",
       "      <th>(x - 0)**4</th>\n",
       "      <th>(x - 1)**2</th>\n",
       "      <th>(x - 1)**4</th>\n",
       "      <th>(x - 2)**2</th>\n",
       "      <th>(x - 2)**4</th>\n",
       "      <th>(x - 3)**2</th>\n",
       "      <th>...</th>\n",
       "      <th>(x - 5)**2</th>\n",
       "      <th>(x - 5)**4</th>\n",
       "      <th>(x - 6)**2</th>\n",
       "      <th>(x - 6)**4</th>\n",
       "      <th>(x - 7)**2</th>\n",
       "      <th>(x - 7)**4</th>\n",
       "      <th>(x - 8)**2</th>\n",
       "      <th>(x - 8)**4</th>\n",
       "      <th>(x - 9)**2</th>\n",
       "      <th>(x - 9)**4</th>\n",
       "    </tr>\n",
       "  </thead>\n",
       "  <tbody>\n",
       "    <tr>\n",
       "      <th>0</th>\n",
       "      <td>1.1</td>\n",
       "      <td>0</td>\n",
       "      <td>24.01</td>\n",
       "      <td>1.21</td>\n",
       "      <td>1.4641</td>\n",
       "      <td>0.01</td>\n",
       "      <td>0.0001</td>\n",
       "      <td>0.81</td>\n",
       "      <td>0.6561</td>\n",
       "      <td>3.61</td>\n",
       "      <td>...</td>\n",
       "      <td>15.21</td>\n",
       "      <td>231.3441</td>\n",
       "      <td>24.01</td>\n",
       "      <td>576.4801</td>\n",
       "      <td>34.81</td>\n",
       "      <td>1211.7361</td>\n",
       "      <td>47.61</td>\n",
       "      <td>2266.7121</td>\n",
       "      <td>62.41</td>\n",
       "      <td>3895.0081</td>\n",
       "    </tr>\n",
       "    <tr>\n",
       "      <th>1</th>\n",
       "      <td>1.5</td>\n",
       "      <td>0</td>\n",
       "      <td>20.25</td>\n",
       "      <td>2.25</td>\n",
       "      <td>5.0625</td>\n",
       "      <td>0.25</td>\n",
       "      <td>0.0625</td>\n",
       "      <td>0.25</td>\n",
       "      <td>0.0625</td>\n",
       "      <td>2.25</td>\n",
       "      <td>...</td>\n",
       "      <td>12.25</td>\n",
       "      <td>150.0625</td>\n",
       "      <td>20.25</td>\n",
       "      <td>410.0625</td>\n",
       "      <td>30.25</td>\n",
       "      <td>915.0625</td>\n",
       "      <td>42.25</td>\n",
       "      <td>1785.0625</td>\n",
       "      <td>56.25</td>\n",
       "      <td>3164.0625</td>\n",
       "    </tr>\n",
       "    <tr>\n",
       "      <th>2</th>\n",
       "      <td>1.7</td>\n",
       "      <td>0</td>\n",
       "      <td>18.49</td>\n",
       "      <td>2.89</td>\n",
       "      <td>8.3521</td>\n",
       "      <td>0.49</td>\n",
       "      <td>0.2401</td>\n",
       "      <td>0.09</td>\n",
       "      <td>0.0081</td>\n",
       "      <td>1.69</td>\n",
       "      <td>...</td>\n",
       "      <td>10.89</td>\n",
       "      <td>118.5921</td>\n",
       "      <td>18.49</td>\n",
       "      <td>341.8801</td>\n",
       "      <td>28.09</td>\n",
       "      <td>789.0481</td>\n",
       "      <td>39.69</td>\n",
       "      <td>1575.2961</td>\n",
       "      <td>53.29</td>\n",
       "      <td>2839.8241</td>\n",
       "    </tr>\n",
       "    <tr>\n",
       "      <th>3</th>\n",
       "      <td>2.1</td>\n",
       "      <td>0</td>\n",
       "      <td>15.21</td>\n",
       "      <td>4.41</td>\n",
       "      <td>19.4481</td>\n",
       "      <td>1.21</td>\n",
       "      <td>1.4641</td>\n",
       "      <td>0.01</td>\n",
       "      <td>0.0001</td>\n",
       "      <td>0.81</td>\n",
       "      <td>...</td>\n",
       "      <td>8.41</td>\n",
       "      <td>70.7281</td>\n",
       "      <td>15.21</td>\n",
       "      <td>231.3441</td>\n",
       "      <td>24.01</td>\n",
       "      <td>576.4801</td>\n",
       "      <td>34.81</td>\n",
       "      <td>1211.7361</td>\n",
       "      <td>47.61</td>\n",
       "      <td>2266.7121</td>\n",
       "    </tr>\n",
       "    <tr>\n",
       "      <th>4</th>\n",
       "      <td>2.5</td>\n",
       "      <td>0</td>\n",
       "      <td>12.25</td>\n",
       "      <td>6.25</td>\n",
       "      <td>39.0625</td>\n",
       "      <td>2.25</td>\n",
       "      <td>5.0625</td>\n",
       "      <td>0.25</td>\n",
       "      <td>0.0625</td>\n",
       "      <td>0.25</td>\n",
       "      <td>...</td>\n",
       "      <td>6.25</td>\n",
       "      <td>39.0625</td>\n",
       "      <td>12.25</td>\n",
       "      <td>150.0625</td>\n",
       "      <td>20.25</td>\n",
       "      <td>410.0625</td>\n",
       "      <td>30.25</td>\n",
       "      <td>915.0625</td>\n",
       "      <td>42.25</td>\n",
       "      <td>1785.0625</td>\n",
       "    </tr>\n",
       "  </tbody>\n",
       "</table>\n",
       "<p>5 rows × 23 columns</p>\n",
       "</div>"
      ],
      "text/plain": [
       "   Dosage  Effective  transform  (x - 0)**2  (x - 0)**4  (x - 1)**2  \\\n",
       "0     1.1          0      24.01        1.21      1.4641        0.01   \n",
       "1     1.5          0      20.25        2.25      5.0625        0.25   \n",
       "2     1.7          0      18.49        2.89      8.3521        0.49   \n",
       "3     2.1          0      15.21        4.41     19.4481        1.21   \n",
       "4     2.5          0      12.25        6.25     39.0625        2.25   \n",
       "\n",
       "   (x - 1)**4  (x - 2)**2  (x - 2)**4  (x - 3)**2  ...  (x - 5)**2  \\\n",
       "0      0.0001        0.81      0.6561        3.61  ...       15.21   \n",
       "1      0.0625        0.25      0.0625        2.25  ...       12.25   \n",
       "2      0.2401        0.09      0.0081        1.69  ...       10.89   \n",
       "3      1.4641        0.01      0.0001        0.81  ...        8.41   \n",
       "4      5.0625        0.25      0.0625        0.25  ...        6.25   \n",
       "\n",
       "   (x - 5)**4  (x - 6)**2  (x - 6)**4  (x - 7)**2  (x - 7)**4  (x - 8)**2  \\\n",
       "0    231.3441       24.01    576.4801       34.81   1211.7361       47.61   \n",
       "1    150.0625       20.25    410.0625       30.25    915.0625       42.25   \n",
       "2    118.5921       18.49    341.8801       28.09    789.0481       39.69   \n",
       "3     70.7281       15.21    231.3441       24.01    576.4801       34.81   \n",
       "4     39.0625       12.25    150.0625       20.25    410.0625       30.25   \n",
       "\n",
       "   (x - 8)**4  (x - 9)**2  (x - 9)**4  \n",
       "0   2266.7121       62.41   3895.0081  \n",
       "1   1785.0625       56.25   3164.0625  \n",
       "2   1575.2961       53.29   2839.8241  \n",
       "3   1211.7361       47.61   2266.7121  \n",
       "4    915.0625       42.25   1785.0625  \n",
       "\n",
       "[5 rows x 23 columns]"
      ]
     },
     "execution_count": 404,
     "metadata": {},
     "output_type": "execute_result"
    }
   ],
   "source": [
    "#CREATE MULTIPLE DIFFERENT TRANSFORMATIONS\n",
    "for i in range(0,10):\n",
    "    for j in [2,4]:\n",
    "        name = \"(x - \" + str(i) + \")**\" + str(j)\n",
    "        df[name] = [(x - i)**j for x in df[\"Dosage\"]]\n",
    "df.head()"
   ]
  },
  {
   "cell_type": "code",
   "execution_count": 405,
   "metadata": {},
   "outputs": [
    {
     "name": "stdout",
     "output_type": "stream",
     "text": [
      "BestAccuracy is:  0.8666666666666667\n",
      "Column is:  (x - 6)**2\n",
      "Threshold is:  4.105\n"
     ]
    }
   ],
   "source": [
    "df_0 = df.loc[df['Effective'] == 0]\n",
    "df_1 = df.loc[df['Effective'] == 1]\n",
    "bestAccuracy = 0\n",
    "bestCol = \"\"\n",
    "bestY = 0\n",
    "\n",
    "for col in df.columns[3:]:\n",
    "    thresholds = []\n",
    "    label_0 = df_0[col].to_list()\n",
    "    label_1 = df_1[col].to_list()\n",
    "    \n",
    "    for p1 in label_0:\n",
    "        for p2 in label_1:\n",
    "            thresholds.append((p1+p2)/2)\n",
    "    \n",
    "    for y in thresholds:\n",
    "        predictions = [1 if dosage <= y else 0 for dosage in df[col]]\n",
    "        actual = df[\"Effective\"].to_list()\n",
    "\n",
    "        cur_accuracy = accuracy(predictions, actual)\n",
    "        if cur_accuracy > bestAccuracy:\n",
    "            bestAccuracy = cur_accuracy\n",
    "            bestCol = col\n",
    "            bestY = y\n",
    "    \n",
    "            \n",
    "print(\"BestAccuracy is: \", bestAccuracy)\n",
    "print(\"Column is: \", bestCol)\n",
    "print(\"Threshold is: \", bestY)"
   ]
  },
  {
   "cell_type": "code",
   "execution_count": 406,
   "metadata": {},
   "outputs": [
    {
     "data": {
      "image/png": "[encoded data removed]",
      "text/plain": [
       "<Figure size 576x360 with 2 Axes>"
      ]
     },
     "metadata": {
      "needs_background": "light"
     },
     "output_type": "display_data"
    }
   ],
   "source": [
    "#PLOT GRAPH WITH BEST TRANSFORMATION AND SUPPORT VECTOR CLASSIFIER USING SOFT MARGINS\n",
    "ax2 = df.plot.scatter(x='Dosage', y='transform', c='Effective', colormap='RdYlGn', \n",
    "                      s = 200, figsize=(8,5), title = \"(X - 6) ^ 2 Transformation onf Dosage\")\n",
    "\n",
    "green_patch = mpatches.Patch(color='green', label='Effective')\n",
    "yellow_patch = mpatches.Patch(color='red', label='Not Effective')\n",
    "legend = ax2.legend(handles=[green_patch, yellow_patch])\n",
    "line = plt.hlines(4.105, 0, 12, linestyles = \"dashed\", colors = \"black\")"
   ]
  },
  {
   "cell_type": "markdown",
   "metadata": {},
   "source": [
    "### Conclusion\n",
    "In doing this project I have a better understanding of why we use SVM. However, next steps of this would be to parse the source code for sklearn's SVM classifier and understand how they determine which kernel transformation is best."
   ]
  }
 ],
 "metadata": {
  "kernelspec": {
   "display_name": "Python 3",
   "language": "python",
   "name": "python3"
  },
  "language_info": {
   "codemirror_mode": {
    "name": "ipython",
    "version": 3
   },
   "file_extension": ".py",
   "mimetype": "text/x-python",
   "name": "python",
   "nbconvert_exporter": "python",
   "pygments_lexer": "ipython3",
   "version": "3.8.1"
  }
 },
 "nbformat": 4,
 "nbformat_minor": 2
}
